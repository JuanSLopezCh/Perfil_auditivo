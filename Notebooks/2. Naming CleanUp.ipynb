{
 "cells": [
  {
   "cell_type": "markdown",
   "id": "388caeea",
   "metadata": {},
   "source": [
    "## 2 Limpieza de Repetidos"
   ]
  },
  {
   "cell_type": "code",
   "execution_count": 134,
   "id": "b3f2200d",
   "metadata": {},
   "outputs": [],
   "source": [
    "import pandas as pd\n",
    "import json\n",
    "import warnings\n",
    "import numpy as np\n",
    "from collections import defaultdict\n",
    "import re\n",
    "import ast\n",
    "\n",
    "warnings.filterwarnings('ignore') "
   ]
  },
  {
   "cell_type": "code",
   "execution_count": 135,
   "id": "df8b58a6",
   "metadata": {},
   "outputs": [
    {
     "name": "stdout",
     "output_type": "stream",
     "text": [
      "<class 'pandas.core.frame.DataFrame'>\n",
      "RangeIndex: 4924 entries, 0 to 4923\n",
      "Data columns (total 7 columns):\n",
      " #   Column           Non-Null Count  Dtype \n",
      "---  ------           --------------  ----- \n",
      " 0   Evaluador        4924 non-null   object\n",
      " 1   TipoAudifono     4924 non-null   object\n",
      " 2   MarcaReferencia  4924 non-null   object\n",
      " 3   Marca            4924 non-null   object\n",
      " 4   Referencia       4924 non-null   object\n",
      " 5   Frecuencia       4924 non-null   object\n",
      " 6   Respuesta        4924 non-null   object\n",
      "dtypes: object(7)\n",
      "memory usage: 269.4+ KB\n"
     ]
    }
   ],
   "source": [
    "df = pd.read_excel('../data/interm/Base 2025.xlsx')\n",
    "df.info()"
   ]
  },
  {
   "cell_type": "code",
   "execution_count": 137,
   "id": "7550b156",
   "metadata": {},
   "outputs": [],
   "source": [
    "# Funcion para quitar parentesis\n",
    "def limpiar_MarcaRef(texto):\n",
    "    texto = texto.lower()\n",
    "    texto = re.sub(r'\\(.*?\\)', '', texto)           # Elimina lo que está entre paréntesis\n",
    "    texto = re.sub(r'[^a-z0-9\\s]', '', texto)       # Conserva letras, números y espacios\n",
    "    texto = re.sub(r'\\s+', ' ', texto)              # Reemplaza múltiples espacios por uno solo\n",
    "    return texto.strip()\n",
    "\n",
    "def limpiar_Ref(texto):\n",
    "    return re.sub(r'\\s*\\(.*?\\)', '', texto).strip()\n",
    "\n",
    "# funcion para convertir columna respuesta en una lista de numeros\n",
    "def convertir_a_lista(respuesta):\n",
    "    try:\n",
    "        return ast.literal_eval(respuesta)\n",
    "    except:\n",
    "        return []\n"
   ]
  },
  {
   "cell_type": "code",
   "execution_count": 138,
   "id": "e030cd93",
   "metadata": {},
   "outputs": [
    {
     "name": "stdout",
     "output_type": "stream",
     "text": [
      "                     MarcaReferencia      MarcaReferencia_Limpia\n",
      "0                  7Hz Salnotes Zero           7hz salnotes zero\n",
      "1                       DUNU Titan S                dunu titan s\n",
      "2                             EPZ Q5                      epz q5\n",
      "3                     Etymotic ER2SE              etymotic er2se\n",
      "4                  Final Audio E1000           final audio e1000\n",
      "5                    Haylou Moripods             haylou moripods\n",
      "6                         KZ ZSN Pro                  kz zsn pro\n",
      "7         Moondrop Aria Snow Edition  moondrop aria snow edition\n",
      "8  Simgot Audio EA500 (black nozzle)          simgot audio ea500\n",
      "9                  Simgot Audio EM6L           simgot audio em6l\n"
     ]
    }
   ],
   "source": [
    "df['MarcaReferencia'] = df['MarcaReferencia'].astype(str)\n",
    "df['Referencia'] = df['Referencia'].astype(str)\n",
    "df['MarcaReferencia_Limpia'] = df['MarcaReferencia'].apply(limpiar_MarcaRef)\n",
    "df['Referencia'] = df['Referencia'].apply(limpiar_Ref)\n",
    "df['Respuesta'] = df['Respuesta'].apply(convertir_a_lista)\n",
    "\n",
    "\n",
    "print(df[['MarcaReferencia', 'MarcaReferencia_Limpia']].head(10))"
   ]
  },
  {
   "cell_type": "markdown",
   "id": "e0b0108c",
   "metadata": {},
   "source": [
    "Separar el dataset en 3 datasets separados: \n",
    "- los que no tienen repetidos\n",
    "- los que están repetidos dos veces\n",
    "- Repetidos 3 o mas veces"
   ]
  },
  {
   "cell_type": "code",
   "execution_count": 141,
   "id": "a94949f1",
   "metadata": {},
   "outputs": [],
   "source": [
    "conteo = df['MarcaReferencia_Limpia'].value_counts()"
   ]
  },
  {
   "cell_type": "code",
   "execution_count": 142,
   "id": "38b1a199",
   "metadata": {},
   "outputs": [],
   "source": [
    "unicos = conteo[conteo == 1].index\n",
    "duplicados_dos = conteo[conteo == 2].index\n",
    "duplicados_tres_o_mas = conteo[conteo >= 3].index"
   ]
  },
  {
   "cell_type": "code",
   "execution_count": 143,
   "id": "c0c1c2d0",
   "metadata": {},
   "outputs": [],
   "source": [
    "df_unicos = df[df['MarcaReferencia_Limpia'].isin(unicos)]\n",
    "df_dos = df[df['MarcaReferencia_Limpia'].isin(duplicados_dos)]\n",
    "df_tres_o_mas = df[df['MarcaReferencia_Limpia'].isin(duplicados_tres_o_mas)]"
   ]
  },
  {
   "cell_type": "markdown",
   "id": "4ee71a20",
   "metadata": {},
   "source": [
    "#### 1. los de tres o mas repeticiones se escoge el mas cercano a la media"
   ]
  },
  {
   "cell_type": "code",
   "execution_count": 144,
   "id": "fe1806d8",
   "metadata": {},
   "outputs": [
    {
     "name": "stdout",
     "output_type": "stream",
     "text": [
      "  MarcaReferencia_Limpia  Promedio_Respuesta\n",
      "0      7hz salnotes zero            1.293741\n",
      "1           dunu titan s            2.294216\n",
      "2                 epz q5            3.364158\n",
      "3         etymotic er2se           -0.415626\n",
      "4      final audio e1000           -0.934590\n"
     ]
    }
   ],
   "source": [
    "# Obtener el promedio de cada fila\n",
    "\n",
    "df_tres_o_mas['Promedio_Respuesta'] = df_tres_o_mas['Respuesta'].apply(lambda x: sum(x)/len(x) if len(x) > 0 else None)\n",
    "\n",
    "print(df_tres_o_mas[['MarcaReferencia_Limpia', 'Promedio_Respuesta']].head())\n"
   ]
  },
  {
   "cell_type": "code",
   "execution_count": 145,
   "id": "b40327fb",
   "metadata": {},
   "outputs": [
    {
     "data": {
      "text/html": [
       "<div>\n",
       "<style scoped>\n",
       "    .dataframe tbody tr th:only-of-type {\n",
       "        vertical-align: middle;\n",
       "    }\n",
       "\n",
       "    .dataframe tbody tr th {\n",
       "        vertical-align: top;\n",
       "    }\n",
       "\n",
       "    .dataframe thead th {\n",
       "        text-align: right;\n",
       "    }\n",
       "</style>\n",
       "<table border=\"1\" class=\"dataframe\">\n",
       "  <thead>\n",
       "    <tr style=\"text-align: right;\">\n",
       "      <th></th>\n",
       "      <th>MarcaReferencia_Limpia</th>\n",
       "      <th>Promedio_Respuesta</th>\n",
       "    </tr>\n",
       "  </thead>\n",
       "  <tbody>\n",
       "    <tr>\n",
       "      <th>0</th>\n",
       "      <td>64 audio a12t</td>\n",
       "      <td>1.712486</td>\n",
       "    </tr>\n",
       "    <tr>\n",
       "      <th>1</th>\n",
       "      <td>64 audio nio</td>\n",
       "      <td>2.769789</td>\n",
       "    </tr>\n",
       "    <tr>\n",
       "      <th>2</th>\n",
       "      <td>64 audio u12t</td>\n",
       "      <td>2.144385</td>\n",
       "    </tr>\n",
       "    <tr>\n",
       "      <th>3</th>\n",
       "      <td>64 audio u18t</td>\n",
       "      <td>3.439923</td>\n",
       "    </tr>\n",
       "    <tr>\n",
       "      <th>4</th>\n",
       "      <td>64 audio u4s</td>\n",
       "      <td>2.598405</td>\n",
       "    </tr>\n",
       "  </tbody>\n",
       "</table>\n",
       "</div>"
      ],
      "text/plain": [
       "  MarcaReferencia_Limpia  Promedio_Respuesta\n",
       "0          64 audio a12t            1.712486\n",
       "1           64 audio nio            2.769789\n",
       "2          64 audio u12t            2.144385\n",
       "3          64 audio u18t            3.439923\n",
       "4           64 audio u4s            2.598405"
      ]
     },
     "execution_count": 145,
     "metadata": {},
     "output_type": "execute_result"
    }
   ],
   "source": [
    "# Agrupar por Referencia Limpia y traer el promedio de los promedios obtenidos\n",
    "df_3_agrupado = df_tres_o_mas.groupby('MarcaReferencia_Limpia')['Promedio_Respuesta'].mean().reset_index()\n",
    "df_3_agrupado.head()\n"
   ]
  },
  {
   "cell_type": "code",
   "execution_count": 146,
   "id": "8f646a56",
   "metadata": {},
   "outputs": [
    {
     "name": "stdout",
     "output_type": "stream",
     "text": [
      "  MarcaReferencia_Limpia  Promedio_Respuesta  Promedio_Respuesta_Prom\n",
      "0      7hz salnotes zero            1.293741                 1.924207\n",
      "1           dunu titan s            2.294216                 1.944439\n",
      "2                 epz q5            3.364158                 3.404672\n",
      "3         etymotic er2se           -0.415626                -0.471879\n",
      "4      final audio e1000           -0.934590                 1.445067\n"
     ]
    }
   ],
   "source": [
    "# Llevar el promedio a la tabla y filtrar el mas cercano\n",
    "df_tres_o_mas = df_tres_o_mas.merge(df_3_agrupado, on= 'MarcaReferencia_Limpia', how='left', suffixes=('','_Prom'))\n",
    "\n",
    "print(df_tres_o_mas[['MarcaReferencia_Limpia', 'Promedio_Respuesta', 'Promedio_Respuesta_Prom']].head())"
   ]
  },
  {
   "cell_type": "code",
   "execution_count": 147,
   "id": "bcdff712",
   "metadata": {},
   "outputs": [],
   "source": [
    "# Se trae el valor con el promedio mas cercano a el promedio general por referencia\n",
    "df_tres_o_mas['Dif_respuestas'] = df_tres_o_mas['Promedio_Respuesta'] - df_tres_o_mas['Promedio_Respuesta_Prom']\n",
    "df_tres_o_mas['Abs_Dif'] = df_tres_o_mas['Dif_respuestas'].abs()"
   ]
  },
  {
   "cell_type": "code",
   "execution_count": 148,
   "id": "6f76054b",
   "metadata": {},
   "outputs": [],
   "source": [
    "df_cercanos = df_tres_o_mas.sort_values(by=['MarcaReferencia_Limpia', 'Abs_Dif'])\n",
    "df_cercanos_final = df_cercanos.groupby('MarcaReferencia_Limpia').first().reset_index()\n",
    "\n",
    "columnas_finales = ['Evaluador', 'TipoAudifono', 'MarcaReferencia', 'Marca', 'Referencia', 'Frecuencia', 'Respuesta']\n",
    "df_tres_final = df_cercanos_final[columnas_finales]\n",
    "df_unicos = df_unicos[columnas_finales]\n"
   ]
  },
  {
   "cell_type": "code",
   "execution_count": 149,
   "id": "d2273415",
   "metadata": {},
   "outputs": [],
   "source": [
    "df_tres_final.to_csv('3omas_final.csv')"
   ]
  },
  {
   "cell_type": "code",
   "execution_count": 150,
   "id": "307bdc6d",
   "metadata": {},
   "outputs": [],
   "source": [
    "# Consolidar el df resultante en el df_unicos\n",
    "df_unicos_nuevo =pd.concat([df_unicos, df_tres_final], ignore_index=True)"
   ]
  },
  {
   "cell_type": "markdown",
   "id": "6060fe57",
   "metadata": {},
   "source": [
    "#### 2. Obtenemos un ranking de los evaluadores mas constantes para usarlo de referencia en los que estan repetidos dos veces"
   ]
  },
  {
   "cell_type": "code",
   "execution_count": 151,
   "id": "9cb410d8",
   "metadata": {},
   "outputs": [
    {
     "data": {
      "text/html": [
       "<div>\n",
       "<style scoped>\n",
       "    .dataframe tbody tr th:only-of-type {\n",
       "        vertical-align: middle;\n",
       "    }\n",
       "\n",
       "    .dataframe tbody tr th {\n",
       "        vertical-align: top;\n",
       "    }\n",
       "\n",
       "    .dataframe thead th {\n",
       "        text-align: right;\n",
       "    }\n",
       "</style>\n",
       "<table border=\"1\" class=\"dataframe\">\n",
       "  <thead>\n",
       "    <tr style=\"text-align: right;\">\n",
       "      <th></th>\n",
       "      <th>Evaluador</th>\n",
       "      <th>Conteo</th>\n",
       "    </tr>\n",
       "  </thead>\n",
       "  <tbody>\n",
       "    <tr>\n",
       "      <th>0</th>\n",
       "      <td>Rtings</td>\n",
       "      <td>535</td>\n",
       "    </tr>\n",
       "    <tr>\n",
       "      <th>1</th>\n",
       "      <td>Innerfidelity</td>\n",
       "      <td>526</td>\n",
       "    </tr>\n",
       "    <tr>\n",
       "      <th>2</th>\n",
       "      <td>oratory1990</td>\n",
       "      <td>282</td>\n",
       "    </tr>\n",
       "    <tr>\n",
       "      <th>3</th>\n",
       "      <td>Super Review</td>\n",
       "      <td>211</td>\n",
       "    </tr>\n",
       "    <tr>\n",
       "      <th>4</th>\n",
       "      <td>Headphone.com Legacy</td>\n",
       "      <td>140</td>\n",
       "    </tr>\n",
       "  </tbody>\n",
       "</table>\n",
       "</div>"
      ],
      "text/plain": [
       "              Evaluador  Conteo\n",
       "0                Rtings     535\n",
       "1         Innerfidelity     526\n",
       "2           oratory1990     282\n",
       "3          Super Review     211\n",
       "4  Headphone.com Legacy     140"
      ]
     },
     "execution_count": 151,
     "metadata": {},
     "output_type": "execute_result"
    }
   ],
   "source": [
    "# Contamos cuántas veces cada evaluador aparece en los datos ya validados\n",
    "evaluador_frecuencia = df_unicos_nuevo['Evaluador'].value_counts().reset_index()\n",
    "evaluador_frecuencia.columns = ['Evaluador', 'Conteo']\n",
    "evaluador_frecuencia.head()"
   ]
  },
  {
   "cell_type": "code",
   "execution_count": null,
   "id": "337b3fb6",
   "metadata": {},
   "outputs": [],
   "source": [
    "# se crea una tabla ranking de los evaluadores con mas reseñas dentro del archivo\n",
    "ranking_evaluadores = {\n",
    "    evaluador: i for i, evaluador in enumerate(evaluador_frecuencia['Evaluador'])\n",
    "}"
   ]
  },
  {
   "cell_type": "code",
   "execution_count": 153,
   "id": "4d5d21a9",
   "metadata": {},
   "outputs": [],
   "source": [
    "# Creamos una nueva columna con el ranking (número más bajo es más constante)\n",
    "df_dos['Ranking_Evaluador'] = df_dos['Evaluador'].map(ranking_evaluadores)\n",
    "\n",
    "# Si un evaluador no aparece en el ranking (es decir, no fue parte de df_validos), le damos un ranking alto\n",
    "df_dos['Ranking_Evaluador'] = df_dos['Ranking_Evaluador'].fillna(len(ranking_evaluadores))\n"
   ]
  },
  {
   "cell_type": "code",
   "execution_count": 154,
   "id": "872fb869",
   "metadata": {},
   "outputs": [],
   "source": [
    "df_dos_nuevo = df_dos.sort_values(by=['MarcaReferencia_Limpia', 'Ranking_Evaluador'])\n",
    "df_dos_nuevo = df_dos_nuevo.groupby('MarcaReferencia_Limpia').first().reset_index()\n",
    "\n",
    "df_dos_nuevo = df_dos_nuevo[columnas_finales]"
   ]
  },
  {
   "cell_type": "code",
   "execution_count": 155,
   "id": "4e522bd0",
   "metadata": {},
   "outputs": [],
   "source": [
    "df_unicos_nuevo =pd.concat([df_unicos_nuevo, df_dos_nuevo], ignore_index=True)\n"
   ]
  },
  {
   "cell_type": "code",
   "execution_count": 156,
   "id": "fef46b75",
   "metadata": {},
   "outputs": [],
   "source": [
    "df_unicos_nuevo['Referencia'] = df_unicos_nuevo.apply(\n",
    "    lambda row: row['Referencia'].replace(row['Marca'], '').strip() \n",
    "    if str(row['Referencia']).startswith(str(row['Marca'])) else row['Referencia'], \n",
    "    axis=1\n",
    ")"
   ]
  },
  {
   "cell_type": "code",
   "execution_count": 157,
   "id": "c3f1548b",
   "metadata": {},
   "outputs": [],
   "source": [
    "df_unicos_nuevo.to_csv('df_unicos_nuevo.csv')"
   ]
  },
  {
   "cell_type": "code",
   "execution_count": null,
   "id": "11e27c38",
   "metadata": {},
   "outputs": [],
   "source": [
    "Marca_col = ['Marca']\n",
    "Marcas = df_unicos_nuevo.groupby('Marca').first().reset_index()\n",
    "Marcas = Marcas[Marca_col]"
   ]
  },
  {
   "cell_type": "code",
   "execution_count": null,
   "id": "799eefa5",
   "metadata": {},
   "outputs": [],
   "source": [
    "Marcas.to_csv('Marcas.csv')"
   ]
  }
 ],
 "metadata": {
  "kernelspec": {
   "display_name": "Python 3",
   "language": "python",
   "name": "python3"
  },
  "language_info": {
   "codemirror_mode": {
    "name": "ipython",
    "version": 3
   },
   "file_extension": ".py",
   "mimetype": "text/x-python",
   "name": "python",
   "nbconvert_exporter": "python",
   "pygments_lexer": "ipython3",
   "version": "3.13.2"
  }
 },
 "nbformat": 4,
 "nbformat_minor": 5
}
