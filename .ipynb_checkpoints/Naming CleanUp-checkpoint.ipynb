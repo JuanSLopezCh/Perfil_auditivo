{
 "cells": [
  {
   "cell_type": "code",
   "execution_count": 1,
   "id": "b3f2200d",
   "metadata": {},
   "outputs": [],
   "source": [
    "import pandas as pd\n",
    "import json"
   ]
  },
  {
   "cell_type": "code",
   "execution_count": 2,
   "id": "df8b58a6",
   "metadata": {},
   "outputs": [],
   "source": [
    "df = pd.read_excel('Marca_referencia.xlsx')"
   ]
  },
  {
   "cell_type": "code",
   "execution_count": 3,
   "id": "c6210ce8",
   "metadata": {
    "scrolled": true
   },
   "outputs": [
    {
     "name": "stdout",
     "output_type": "stream",
     "text": [
      "<class 'pandas.core.frame.DataFrame'>\n",
      "RangeIndex: 4183 entries, 0 to 4182\n",
      "Data columns (total 8 columns):\n",
      " #   Column           Non-Null Count  Dtype  \n",
      "---  ------           --------------  -----  \n",
      " 0   Evaluador        4183 non-null   object \n",
      " 1   TipoAudifono     4183 non-null   object \n",
      " 2   MarcaReferencia  4183 non-null   object \n",
      " 3   Marca            4183 non-null   object \n",
      " 4   Referencia       4183 non-null   object \n",
      " 5   Frecuencia       4183 non-null   object \n",
      " 6   Respuesta        4183 non-null   object \n",
      " 7   referencia       4183 non-null   float64\n",
      "dtypes: float64(1), object(7)\n",
      "memory usage: 261.6+ KB\n"
     ]
    }
   ],
   "source": [
    "df.info()"
   ]
  },
  {
   "cell_type": "code",
   "execution_count": 4,
   "id": "dc39e514",
   "metadata": {},
   "outputs": [],
   "source": [
    "#contar duplicados por MarcaReferencia\n",
    "counts = df['MarcaReferencia'].value_counts()"
   ]
  },
  {
   "cell_type": "code",
   "execution_count": 5,
   "id": "6715c84f",
   "metadata": {},
   "outputs": [],
   "source": [
    "#Crear Columna de cuentas\n",
    "df['Counts'] = df['MarcaReferencia'].map(counts)"
   ]
  },
  {
   "cell_type": "code",
   "execution_count": 6,
   "id": "fdee733f",
   "metadata": {},
   "outputs": [],
   "source": [
    "#Separar valores unicos, repetidos dos veces, repetidos 3 o mas veces\n",
    "df1 = df[df['Counts']==1]\n",
    "df2 = df[df['Counts']==2]\n",
    "df3 = df[df['Counts']>=3]"
   ]
  },
  {
   "cell_type": "code",
   "execution_count": 7,
   "id": "b39cd17b",
   "metadata": {},
   "outputs": [],
   "source": [
    "#Para los duplicados solo 2 veces traemos el valor mas cercano a 0\n",
    "idx = df2.groupby('MarcaReferencia')['referencia'].idxmin()"
   ]
  },
  {
   "cell_type": "code",
   "execution_count": 8,
   "id": "8df2b6b3",
   "metadata": {},
   "outputs": [],
   "source": [
    "#Seleccionar solo las filas correspondientes a esos índices\n",
    "result_df2 = df2.loc[idx]"
   ]
  },
  {
   "cell_type": "code",
   "execution_count": 10,
   "id": "8a7f87a4",
   "metadata": {},
   "outputs": [],
   "source": [
    "promedios = df3.groupby('MarcaReferencia')['referencia'].mean()"
   ]
  },
  {
   "cell_type": "code",
   "execution_count": null,
   "id": "c06d0a92",
   "metadata": {},
   "outputs": [],
   "source": []
  },
  {
   "cell_type": "code",
   "execution_count": 11,
   "id": "02617751",
   "metadata": {},
   "outputs": [
    {
     "data": {
      "text/plain": [
       "MarcaReferencia\n",
       "BQEYZ Autumn (bass filter)             7.737500\n",
       "BQEYZ Autumn (normal filter)           4.562500\n",
       "BQEYZ Autumn (treble filter)           1.612500\n",
       "BQEYZ Wind                             5.546667\n",
       "CCA CRA                               11.836000\n",
       "                                        ...    \n",
       "Truthear Crinacle Zero RED (Bass+)     8.074000\n",
       "Truthear Hexa                          7.591667\n",
       "Truthear Hola                          8.311667\n",
       "VMODA Crossfade M100                   3.460000\n",
       "Venture Electronics Monk Plus        -23.533333\n",
       "Name: referencia, Length: 199, dtype: float64"
      ]
     },
     "execution_count": 11,
     "metadata": {},
     "output_type": "execute_result"
    }
   ],
   "source": [
    "# Función para obtener el valor más cercano al promedio\n",
    "def valor_mas_cercano(row):\n",
    "    marca_referencia = row['MarcaReferencia']\n",
    "    promedio = promedios.loc[marca_referencia]\n",
    "    valores = df[df['MarcaReferencia'] == marca_referencia]['referencia']\n",
    "    valor_cercano = min(valores, key=lambda x: abs(x - promedio))\n",
    "    return valor_cercano"
   ]
  }
 ],
 "metadata": {
  "kernelspec": {
   "display_name": "Python 3 (ipykernel)",
   "language": "python",
   "name": "python3"
  },
  "language_info": {
   "codemirror_mode": {
    "name": "ipython",
    "version": 3
   },
   "file_extension": ".py",
   "mimetype": "text/x-python",
   "name": "python",
   "nbconvert_exporter": "python",
   "pygments_lexer": "ipython3",
   "version": "3.11.5"
  }
 },
 "nbformat": 4,
 "nbformat_minor": 5
}
