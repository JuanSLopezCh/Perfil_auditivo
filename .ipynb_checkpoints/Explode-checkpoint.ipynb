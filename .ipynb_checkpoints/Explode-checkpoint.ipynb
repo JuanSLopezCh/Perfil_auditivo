{
 "cells": [
  {
   "cell_type": "code",
   "execution_count": 1,
   "id": "f38cf3a9",
   "metadata": {},
   "outputs": [],
   "source": [
    "import pandas as pd\n",
    "import numpy as np"
   ]
  },
  {
   "cell_type": "code",
   "execution_count": 2,
   "id": "ff611668",
   "metadata": {},
   "outputs": [],
   "source": [
    "df = pd.read_excel(\"DataSet.xlsx\")"
   ]
  },
  {
   "cell_type": "code",
   "execution_count": 3,
   "id": "d55ec830",
   "metadata": {},
   "outputs": [
    {
     "data": {
      "text/html": [
       "<div>\n",
       "<style scoped>\n",
       "    .dataframe tbody tr th:only-of-type {\n",
       "        vertical-align: middle;\n",
       "    }\n",
       "\n",
       "    .dataframe tbody tr th {\n",
       "        vertical-align: top;\n",
       "    }\n",
       "\n",
       "    .dataframe thead th {\n",
       "        text-align: right;\n",
       "    }\n",
       "</style>\n",
       "<table border=\"1\" class=\"dataframe\">\n",
       "  <thead>\n",
       "    <tr style=\"text-align: right;\">\n",
       "      <th></th>\n",
       "      <th>Evaluador</th>\n",
       "      <th>TipoAudifono</th>\n",
       "      <th>MarcaReferencia</th>\n",
       "      <th>Marca</th>\n",
       "      <th>Referencia</th>\n",
       "      <th>Frecuencia</th>\n",
       "      <th>Respuesta</th>\n",
       "    </tr>\n",
       "  </thead>\n",
       "  <tbody>\n",
       "    <tr>\n",
       "      <th>0</th>\n",
       "      <td>Innerfidelity</td>\n",
       "      <td>in-ear</td>\n",
       "      <td>1MORE Crystal Piston</td>\n",
       "      <td>1MORE</td>\n",
       "      <td>Crystal Piston</td>\n",
       "      <td>[20.0, 20.2, 20.4, 20.61, 20.81, 21.02, 21.23,...</td>\n",
       "      <td>[9.48, 9.73, 9.99, 10.24, 10.49, 10.7, 10.51, ...</td>\n",
       "    </tr>\n",
       "    <tr>\n",
       "      <th>1</th>\n",
       "      <td>Regan Cipher</td>\n",
       "      <td>in-ear</td>\n",
       "      <td>1MORE Fit Open Earbuds S50</td>\n",
       "      <td>1MORE</td>\n",
       "      <td>Fit Open Earbuds S50</td>\n",
       "      <td>[20.0, 20.2, 20.4, 20.61, 20.81, 21.02, 21.23,...</td>\n",
       "      <td>[-27.9, -27.89, -27.87, -27.85, -27.72, -27.43...</td>\n",
       "    </tr>\n",
       "    <tr>\n",
       "      <th>2</th>\n",
       "      <td>Innerfidelity</td>\n",
       "      <td>over-ear</td>\n",
       "      <td>1MORE MK801</td>\n",
       "      <td>1MORE</td>\n",
       "      <td>MK801</td>\n",
       "      <td>[20.0, 20.2, 20.4, 20.61, 20.81, 21.02, 21.23,...</td>\n",
       "      <td>[-4.09, -4.0, -3.91, -3.82, -3.73, -3.64, -3.5...</td>\n",
       "    </tr>\n",
       "    <tr>\n",
       "      <th>3</th>\n",
       "      <td>Innerfidelity</td>\n",
       "      <td>in-ear</td>\n",
       "      <td>1MORE Multi Unit Earphones</td>\n",
       "      <td>1MORE</td>\n",
       "      <td>Multi Unit Earphones</td>\n",
       "      <td>[20.0, 20.2, 20.4, 20.61, 20.81, 21.02, 21.23,...</td>\n",
       "      <td>[3.94, 4.0, 4.06, 4.12, 4.18, 4.24, 4.3, 4.37,...</td>\n",
       "    </tr>\n",
       "    <tr>\n",
       "      <th>4</th>\n",
       "      <td>Regan Cipher</td>\n",
       "      <td>in-ear</td>\n",
       "      <td>1MORE Omthing Airfree 2</td>\n",
       "      <td>1MORE</td>\n",
       "      <td>Omthing Airfree 2</td>\n",
       "      <td>[20.0, 20.2, 20.4, 20.61, 20.81, 21.02, 21.23,...</td>\n",
       "      <td>[-0.39, -0.34, -0.3, -0.25, -0.15, -0.05, 0.05...</td>\n",
       "    </tr>\n",
       "  </tbody>\n",
       "</table>\n",
       "</div>"
      ],
      "text/plain": [
       "       Evaluador TipoAudifono             MarcaReferencia  Marca  \\\n",
       "0  Innerfidelity       in-ear        1MORE Crystal Piston  1MORE   \n",
       "1   Regan Cipher       in-ear  1MORE Fit Open Earbuds S50  1MORE   \n",
       "2  Innerfidelity     over-ear                 1MORE MK801  1MORE   \n",
       "3  Innerfidelity       in-ear  1MORE Multi Unit Earphones  1MORE   \n",
       "4   Regan Cipher       in-ear     1MORE Omthing Airfree 2  1MORE   \n",
       "\n",
       "             Referencia                                         Frecuencia  \\\n",
       "0        Crystal Piston  [20.0, 20.2, 20.4, 20.61, 20.81, 21.02, 21.23,...   \n",
       "1  Fit Open Earbuds S50  [20.0, 20.2, 20.4, 20.61, 20.81, 21.02, 21.23,...   \n",
       "2                 MK801  [20.0, 20.2, 20.4, 20.61, 20.81, 21.02, 21.23,...   \n",
       "3  Multi Unit Earphones  [20.0, 20.2, 20.4, 20.61, 20.81, 21.02, 21.23,...   \n",
       "4     Omthing Airfree 2  [20.0, 20.2, 20.4, 20.61, 20.81, 21.02, 21.23,...   \n",
       "\n",
       "                                           Respuesta  \n",
       "0  [9.48, 9.73, 9.99, 10.24, 10.49, 10.7, 10.51, ...  \n",
       "1  [-27.9, -27.89, -27.87, -27.85, -27.72, -27.43...  \n",
       "2  [-4.09, -4.0, -3.91, -3.82, -3.73, -3.64, -3.5...  \n",
       "3  [3.94, 4.0, 4.06, 4.12, 4.18, 4.24, 4.3, 4.37,...  \n",
       "4  [-0.39, -0.34, -0.3, -0.25, -0.15, -0.05, 0.05...  "
      ]
     },
     "execution_count": 3,
     "metadata": {},
     "output_type": "execute_result"
    }
   ],
   "source": [
    "df.head(5)"
   ]
  },
  {
   "cell_type": "code",
   "execution_count": 4,
   "id": "47ef4abe",
   "metadata": {},
   "outputs": [],
   "source": [
    "df = df.drop(['Evaluador', 'MarcaReferencia'], axis=1 )\n",
    "# Convertir las columnas 'Frecuencia' y 'Respuesta' a tipo lista\n",
    "df['Frecuencia'] = df['Frecuencia'].apply(lambda x: eval(x))\n",
    "df['Respuesta'] = df['Respuesta'].apply(lambda x: eval(x))"
   ]
  },
  {
   "cell_type": "code",
   "execution_count": 7,
   "id": "ea181d1e",
   "metadata": {},
   "outputs": [],
   "source": [
    "# Definir el tamaño del lote\n",
    "batch_size = 10000\n",
    "\n",
    "# Lista para almacenar los DataFrames resultantes de cada lote\n",
    "df_exploded_list = []\n",
    "\n",
    "# Iterar sobre el DataFrame en lotes y aplicar la función explode()\n",
    "for i in range(0, len(df), batch_size):\n",
    "    df_batch = df.iloc[i:i+batch_size].copy()\n",
    "\n",
    "df_exploded_Freq = df_batch.explode('Frecuencia')\n",
    "df_exploded_Resp = df_batch.explode('Respuesta')\n",
    "\n",
    "df_nuevo = df_exploded_Freq.assign(Respuesta=df_exploded_Resp['Respuesta'])"
   ]
  },
  {
   "cell_type": "code",
   "execution_count": 8,
   "id": "c2eff2da",
   "metadata": {},
   "outputs": [
    {
     "data": {
      "text/plain": [
       "(2253190, 5)"
      ]
     },
     "execution_count": 8,
     "metadata": {},
     "output_type": "execute_result"
    }
   ],
   "source": [
    "df_nuevo.shape"
   ]
  },
  {
   "cell_type": "code",
   "execution_count": null,
   "id": "4e3e1dd2",
   "metadata": {},
   "outputs": [],
   "source": [
    "test = df_nuevo.head(695)"
   ]
  },
  {
   "cell_type": "code",
   "execution_count": null,
   "id": "f497a9e9",
   "metadata": {},
   "outputs": [],
   "source": [
    "test.to_csv('test.csv')"
   ]
  }
 ],
 "metadata": {
  "kernelspec": {
   "display_name": "Python 3",
   "language": "python",
   "name": "python3"
  },
  "language_info": {
   "codemirror_mode": {
    "name": "ipython",
    "version": 3
   },
   "file_extension": ".py",
   "mimetype": "text/x-python",
   "name": "python",
   "nbconvert_exporter": "python",
   "pygments_lexer": "ipython3",
   "version": "3.11.5"
  }
 },
 "nbformat": 4,
 "nbformat_minor": 5
}
